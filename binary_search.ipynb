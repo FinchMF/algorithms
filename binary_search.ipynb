{
 "metadata": {
  "language_info": {
   "codemirror_mode": {
    "name": "ipython",
    "version": 3
   },
   "file_extension": ".py",
   "mimetype": "text/x-python",
   "name": "python",
   "nbconvert_exporter": "python",
   "pygments_lexer": "ipython3",
   "version": "3.7.6-final"
  },
  "orig_nbformat": 2,
  "kernelspec": {
   "name": "python3",
   "display_name": "Python 3"
  }
 },
 "nbformat": 4,
 "nbformat_minor": 2,
 "cells": [
  {
   "cell_type": "code",
   "execution_count": 1,
   "metadata": {},
   "outputs": [],
   "source": [
    "import algorithm\n",
    "from algorithm.binary_search_tree import Binary_Search_Tree, testBinarySearchTree"
   ]
  },
  {
   "cell_type": "code",
   "execution_count": null,
   "metadata": {},
   "outputs": [],
   "source": [
    "# visualization of the intially constructed tree, followed by the visualization of the result tree by operations\n",
    "\n",
    "r'''\n",
    "    Example\n",
    "                  8\n",
    "                 / \\\n",
    "                3   10\n",
    "               / \\    \\\n",
    "              1   6    14\n",
    "                 / \\   /\n",
    "                4   7 13\n",
    "    '''\n",
    "\n",
    "    r'''\n",
    "    Example After Deletion\n",
    "                  7\n",
    "                 / \\\n",
    "                1   4\n",
    "\n",
    "    '''"
   ]
  },
  {
   "cell_type": "code",
   "execution_count": 2,
   "metadata": {},
   "outputs": [
    {
     "output_type": "stream",
     "name": "stdout",
     "text": [
      " 8 3 1 6 4 7 10 14 13\nThe label 6 exists\nThe label -1 doesn't exist\n('Max Value: ', 14)\n('Min Value: ', 1)\n7\n1\n4\n"
     ]
    }
   ],
   "source": [
    "testBinarySearchTree()"
   ]
  },
  {
   "cell_type": "code",
   "execution_count": 3,
   "metadata": {},
   "outputs": [],
   "source": [
    "# examining the search tree assessment function\n",
    "def test_Binary_Search_Tree():\n",
    "\n",
    "    t = Binary_Search_Tree()\n",
    "    t.insert(8)\n",
    "    t.insert(3)\n",
    "    t.insert(6)\n",
    "    t.insert(1)\n",
    "    t.insert(10)\n",
    "    t.insert(14)\n",
    "    t.insert(13)\n",
    "    t.insert(4)\n",
    "    t.insert(7)\n",
    "\n",
    "  \n",
    "    print(t.__str__())\n",
    "\n",
    "    if(t.get_node(6) is not None):\n",
    "        print(\"The label 6 exists\")\n",
    "    else:\n",
    "        print(\"The label 6 doesn't exist\")\n",
    "\n",
    "    if(t.get_node(-1) is not None):\n",
    "        print(\"The label -1 exists\")\n",
    "    else:\n",
    "        print(\"The label -1 doesn't exist\")\n",
    "\n",
    "    if(not t.empty()):\n",
    "        print((\"Max Value: \", t.get_max().get_label()))\n",
    "        print((\"Min Value: \", t.get_min().get_label()))\n",
    "\n",
    "    t.delete(13)\n",
    "    t.delete(10)\n",
    "    t.delete(8)\n",
    "    t.delete(3)\n",
    "    t.delete(6)\n",
    "    t.delete(14)\n",
    "\n",
    "\n",
    "    list = t.traversal_tree(algorithm.binary_search_tree.In_Pre_Order, t.root)\n",
    "    for x in list:\n",
    "        print(x)"
   ]
  },
  {
   "cell_type": "code",
   "execution_count": 4,
   "metadata": {},
   "outputs": [
    {
     "output_type": "stream",
     "name": "stdout",
     "text": [
      " 8 3 1 6 4 7 10 14 13\nThe label 6 exists\nThe label -1 doesn't exist\n('Max Value: ', 14)\n('Min Value: ', 1)\n7\n1\n4\n"
     ]
    }
   ],
   "source": [
    "test_Binary_Search_Tree()"
   ]
  },
  {
   "cell_type": "code",
   "execution_count": null,
   "metadata": {},
   "outputs": [],
   "source": []
  }
 ]
}