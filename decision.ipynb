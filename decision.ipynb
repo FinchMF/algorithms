{
 "metadata": {
  "language_info": {
   "codemirror_mode": {
    "name": "ipython",
    "version": 3
   },
   "file_extension": ".py",
   "mimetype": "text/x-python",
   "name": "python",
   "nbconvert_exporter": "python",
   "pygments_lexer": "ipython3",
   "version": "3.7.6-final"
  },
  "orig_nbformat": 2,
  "kernelspec": {
   "name": "python3",
   "display_name": "Python 3"
  }
 },
 "nbformat": 4,
 "nbformat_minor": 2,
 "cells": [
  {
   "source": [
    "## Decision Tree"
   ],
   "cell_type": "markdown",
   "metadata": {}
  },
  {
   "cell_type": "code",
   "execution_count": 1,
   "metadata": {},
   "outputs": [],
   "source": [
    "import time\n",
    "import numpy as np\n",
    "from algorithm.decision_tree import Decision_Tree, Evaluate"
   ]
  },
  {
   "cell_type": "code",
   "execution_count": 2,
   "metadata": {
    "tags": []
   },
   "outputs": [
    {
     "output_type": "stream",
     "name": "stdout",
     "text": [
      " --- Time: 0.054586172103881836 seconds\n\n || Test Values:                 [ 0.84488232 -0.00158492 -0.48909254  0.64221055  0.98034645  0.62475492\n  0.2707474  -0.14644386 -0.35809389 -0.6919381 ]\n\n || Preds:                 [ 0.72936277 -0.02999175 -0.47273421  0.616982    0.82478261  0.56866255\n  0.24737303 -0.13952567 -0.35690468 -0.61893229]\n\n || Average err:                 0.004832773626796792\n\n"
     ]
    }
   ],
   "source": [
    "# instantiate Decision Tree and test it on random 1-dimenional data\n",
    "tree = Decision_Tree(depth=10, min_leaf_size=10) \n",
    "Evaluate(tree).assess()"
   ]
  },
  {
   "cell_type": "code",
   "execution_count": 3,
   "metadata": {},
   "outputs": [],
   "source": [
    "# examine Evaluate's assess method\n",
    "def assess_tree():\n",
    "    \n",
    "    # generate random data\n",
    "    X = np.arange(-1., 1., 0.005)\n",
    "    # generate labels\n",
    "    y = np.sin(X)\n",
    "    # set decision tree and train\n",
    "    tree = Decision_Tree(depth = 10, min_leaf_size = 10)\n",
    "    # set time\n",
    "    start = time.time()\n",
    "    tree.train(X,y)\n",
    "\n",
    "    # evaluate model on random data\n",
    "\n",
    "    # generate randomized dataset\n",
    "    test_cases = (np.random.rand(10) * 2) - 1\n",
    "    # generate predictions\n",
    "    preds = np.array([tree.predict(x) for x in test_cases])\n",
    "    # calculate the loss \n",
    "    avg_err = np.mean((preds - test_cases) ** 2)\n",
    "    # end timer\n",
    "    end = time.time()\n",
    "\n",
    "    print(f' --- Time: {end - start} seconds\\n')\n",
    "    print(f' || Test Values:\\n \\\n",
    "            {test_cases}\\n')\n",
    "    print(f' || Preds:\\n \\\n",
    "        {preds}\\n')\n",
    "    print(f' || Average err:\\n \\\n",
    "        {avg_err}\\n')\n",
    "\n",
    "    return"
   ]
  },
  {
   "cell_type": "code",
   "execution_count": 4,
   "metadata": {},
   "outputs": [
    {
     "output_type": "stream",
     "name": "stdout",
     "text": [
      " --- Time: 0.05405306816101074 seconds\n\n || Test Values:\n             [ 0.24718246 -0.46575652  0.88418222  0.05887282  0.56880096 -0.50207526\n -0.2242228  -0.45087409 -0.29387843 -0.62803684]\n\n || Preds:\n         [ 0.24737303 -0.47273421  0.76263583  0.07990471  0.52050061 -0.47273421\n -0.19618932 -0.41224863 -0.30502051 -0.57073153]\n\n || Average err:\n         0.0024144257089029307\n\n"
     ]
    }
   ],
   "source": [
    "assess_tree()"
   ]
  },
  {
   "cell_type": "code",
   "execution_count": null,
   "metadata": {},
   "outputs": [],
   "source": []
  }
 ]
}