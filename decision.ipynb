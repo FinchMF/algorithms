{
 "metadata": {
  "language_info": {
   "codemirror_mode": {
    "name": "ipython",
    "version": 3
   },
   "file_extension": ".py",
   "mimetype": "text/x-python",
   "name": "python",
   "nbconvert_exporter": "python",
   "pygments_lexer": "ipython3",
   "version": "3.7.6-final"
  },
  "orig_nbformat": 2,
  "kernelspec": {
   "name": "python3",
   "display_name": "Python 3"
  }
 },
 "nbformat": 4,
 "nbformat_minor": 2,
 "cells": [
  {
   "source": [
    "## Decision Tree"
   ],
   "cell_type": "markdown",
   "metadata": {}
  },
  {
   "cell_type": "code",
   "execution_count": 1,
   "metadata": {},
   "outputs": [],
   "source": [
    "import time\n",
    "import numpy as np\n",
    "from decision_tree import Decision_Tree, Evaluate"
   ]
  },
  {
   "cell_type": "code",
   "execution_count": 2,
   "metadata": {
    "tags": []
   },
   "outputs": [
    {
     "output_type": "stream",
     "name": "stdout",
     "text": [
      " --- Time: 0.06307482719421387 seconds\n\n || Test Values:                 [-0.67145971  0.00844835  0.84590332 -0.12780327  0.72087161  0.06606704\n -0.31360685 -0.66098586 -0.12336694 -0.84488327]\n\n || Preds:                 [-0.61893229  0.02499427  0.76263583 -0.13952567  0.6574353   0.07990471\n -0.30502051 -0.61893229 -0.13952567 -0.73277352]\n\n || Average err:                 0.0028991361267387836\n\n"
     ]
    }
   ],
   "source": [
    "# instantiate Decision Tree and test it on random 1-dimenional data\n",
    "tree = Decision_Tree(depth=10, min_leaf_size=10) \n",
    "Evaluate(tree).asess()"
   ]
  },
  {
   "cell_type": "code",
   "execution_count": 3,
   "metadata": {},
   "outputs": [],
   "source": [
    "# examine Evaluate's asess method\n",
    "def acess_tree():\n",
    "    \n",
    "    # generate random data\n",
    "    X = np.arange(-1., 1., 0.005)\n",
    "    # generate labels\n",
    "    y = np.sin(X)\n",
    "    # set decision tree and train\n",
    "    tree = Decision_Tree(depth = 10, min_leaf_size = 10)\n",
    "    # set time\n",
    "    start = time.time()\n",
    "    tree.train(X,y)\n",
    "\n",
    "    # evaluate model on random data\n",
    "\n",
    "    # generate randomized dataset\n",
    "    test_cases = (np.random.rand(10) * 2) - 1\n",
    "    # generate predictions\n",
    "    preds = np.array([tree.predict(x) for x in test_cases])\n",
    "    # calculate the loss \n",
    "    avg_err = np.mean((preds - test_cases) ** 2)\n",
    "    # end timer\n",
    "    end = time.time()\n",
    "\n",
    "    print(f' --- Time: {end - start} seconds\\n')\n",
    "    print(f' || Test Values:\\n \\\n",
    "            {test_cases}\\n')\n",
    "    print(f' || Preds:\\n \\\n",
    "        {preds}\\n')\n",
    "    print(f' || Average err:\\n \\\n",
    "        {avg_err}\\n')\n",
    "\n",
    "    return"
   ]
  },
  {
   "cell_type": "code",
   "execution_count": 4,
   "metadata": {},
   "outputs": [
    {
     "output_type": "stream",
     "name": "stdout",
     "text": [
      " --- Time: 0.056282997131347656 seconds\n\n || Test Values:\n             [ 0.49068874 -0.55101637 -0.26361922  0.92702069  0.9421323   0.61157913\n -0.04757329  0.95019998  0.73594597 -0.31979959]\n\n || Preds:\n         [ 0.46832345 -0.52476278 -0.25221388  0.7940027   0.7940027   0.56866255\n -0.02999175  0.82478261  0.6574353  -0.30502051]\n\n || Average err:\n         0.006521851531477815\n\n"
     ]
    }
   ],
   "source": [
    "acess_tree()"
   ]
  }
 ]
}