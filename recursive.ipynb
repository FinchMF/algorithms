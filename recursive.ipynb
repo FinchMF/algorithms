{
 "metadata": {
  "language_info": {
   "codemirror_mode": {
    "name": "ipython",
    "version": 3
   },
   "file_extension": ".py",
   "mimetype": "text/x-python",
   "name": "python",
   "nbconvert_exporter": "python",
   "pygments_lexer": "ipython3",
   "version": "3.7.6-final"
  },
  "orig_nbformat": 2,
  "kernelspec": {
   "name": "python3",
   "display_name": "Python 3"
  }
 },
 "nbformat": 4,
 "nbformat_minor": 2,
 "cells": [
  {
   "source": [
    "## EXAMPLES OF RECURSION"
   ],
   "cell_type": "markdown",
   "metadata": {}
  },
  {
   "cell_type": "code",
   "execution_count": 3,
   "metadata": {},
   "outputs": [],
   "source": [
    "from algorithm.recursion import factorial, draw_ruler, binary_search, disk_usage, fibonacci_number"
   ]
  },
  {
   "source": [
    "### Factorial "
   ],
   "cell_type": "markdown",
   "metadata": {}
  },
  {
   "cell_type": "code",
   "execution_count": 3,
   "metadata": {},
   "outputs": [
    {
     "output_type": "stream",
     "name": "stdout",
     "text": [
      "The factorial of 0 is 1\nThe factorial of 6 is 720\nThe factorial of 7 is 5040\nThe factorial of 10 is 3628800\nThe factorial of 333 is 10334465434588059156093965538297516550622260041682062823432902469783188597914276568552700194849877929894375950252570477080418352732597658745665925604704669227133726477243854317836635130694123893711638533001980496229875665476598568821806170303765540489814402234159901540440432134155844542962445153646330595588291605924429211352279943471372817279938720974895260387784578239150931816946786416232516666251965421919651838044618050991294403546958930745419743836966520198735201123255884089263272829846640538826979843642885775791641575109178753509580001660392092396798648924375401024147883702298145910046889402880394195369984000000000000000000000000000000000000000000000000000000000000000000000000000000000\n"
     ]
    }
   ],
   "source": [
    "num = [0, 6, 7, 10, 333]\n",
    "for n in num:\n",
    "    print(f\"The factorial of {n} is {factorial(n)}\")"
   ]
  },
  {
   "source": [
    "### Draw An English Ruler"
   ],
   "cell_type": "markdown",
   "metadata": {}
  },
  {
   "cell_type": "code",
   "execution_count": 7,
   "metadata": {},
   "outputs": [
    {
     "output_type": "stream",
     "name": "stdout",
     "text": [
      "\n\n ------------ Inches: 1 with Major Length: 2 \n\n\n-- 0\n-  \n-- 1\n\n\n ------------ Inches: 1 with Major Length: 3 \n\n\n--- 0\n-  \n--  \n-  \n--- 1\n\n\n ------------ Inches: 1 with Major Length: 4 \n\n\n---- 0\n-  \n--  \n-  \n---  \n-  \n--  \n-  \n---- 1\n\n\n ------------ Inches: 2 with Major Length: 2 \n\n\n-- 0\n-  \n-- 1\n-  \n-- 2\n\n\n ------------ Inches: 2 with Major Length: 3 \n\n\n--- 0\n-  \n--  \n-  \n--- 1\n-  \n--  \n-  \n--- 2\n\n\n ------------ Inches: 2 with Major Length: 4 \n\n\n---- 0\n-  \n--  \n-  \n---  \n-  \n--  \n-  \n---- 1\n-  \n--  \n-  \n---  \n-  \n--  \n-  \n---- 2\n\n\n ------------ Inches: 4 with Major Length: 2 \n\n\n-- 0\n-  \n-- 1\n-  \n-- 2\n-  \n-- 3\n-  \n-- 4\n\n\n ------------ Inches: 4 with Major Length: 3 \n\n\n--- 0\n-  \n--  \n-  \n--- 1\n-  \n--  \n-  \n--- 2\n-  \n--  \n-  \n--- 3\n-  \n--  \n-  \n--- 4\n\n\n ------------ Inches: 4 with Major Length: 4 \n\n\n---- 0\n-  \n--  \n-  \n---  \n-  \n--  \n-  \n---- 1\n-  \n--  \n-  \n---  \n-  \n--  \n-  \n---- 2\n-  \n--  \n-  \n---  \n-  \n--  \n-  \n---- 3\n-  \n--  \n-  \n---  \n-  \n--  \n-  \n---- 4\n"
     ]
    }
   ],
   "source": [
    "num_inches, major_length = [1,2,4], [2,3,4]\n",
    "for n in num_inches:\n",
    "    for ml in major_length:\n",
    "        print('\\n')\n",
    "        print(f' ------------ Inches: {n} with Major Length: {ml} ')\n",
    "        print('\\n')\n",
    "        draw_ruler(n, ml)"
   ]
  },
  {
   "source": [
    "### BINARY SEARCH "
   ],
   "cell_type": "markdown",
   "metadata": {}
  },
  {
   "cell_type": "code",
   "execution_count": 8,
   "metadata": {},
   "outputs": [
    {
     "output_type": "stream",
     "name": "stdout",
     "text": [
      "Element present at idx 7\n"
     ]
    }
   ],
   "source": [
    "data = [2,3,5,6,7,10,55,56,88,100,155,167,200]\n",
    "target = 56\n",
    "low = 0\n",
    "high = len(data) - 1\n",
    "\n",
    "res = binary_search(data, target, low, high)\n",
    "\n",
    "if res != -1:\n",
    "\n",
    "    print(f'Element present at idx {res}')\n",
    "\n",
    "else:\n",
    "\n",
    "    print('Element is not present in data')\n"
   ]
  },
  {
   "source": [
    "### FILE SYSTEM - ASSESS DISK USAGE"
   ],
   "cell_type": "markdown",
   "metadata": {}
  },
  {
   "cell_type": "code",
   "execution_count": 11,
   "metadata": {
    "tags": []
   },
   "outputs": [
    {
     "output_type": "stream",
     "name": "stdout",
     "text": [
      "6255   ./algorithm/binary_search_tree.py\n0      ./algorithm/__init__.py\n2294   ./algorithm/__pycache__/recursion.cpython-37.pyc\n5840   ./algorithm/__pycache__/binary_search_tree.cpython-37.pyc\n3763   ./algorithm/__pycache__/decision_tree.cpython-37.pyc\n172    ./algorithm/__pycache__/__init__.cpython-37.pyc\n12261  ./algorithm/__pycache__\n4246   ./algorithm/decision_tree.py\n2427   ./algorithm/recursion.py\n25413  ./algorithm\nTotal disk usage: 25413\n"
     ]
    }
   ],
   "source": [
    "path = './algorithm'\n",
    "print(f'Total disk usage: {disk_usage(path)}')"
   ]
  },
  {
   "source": [
    "### FIBONACCI"
   ],
   "cell_type": "markdown",
   "metadata": {}
  },
  {
   "cell_type": "code",
   "execution_count": 4,
   "metadata": {},
   "outputs": [
    {
     "output_type": "stream",
     "name": "stdout",
     "text": [
      "The 15th and 14th Fibonacci Numbers are: (610, 377)\n"
     ]
    }
   ],
   "source": [
    "n = 15\n",
    "res = fibonacci_number(n)\n",
    "print(f'The {n}th and {n-1}th Fibonacci Numbers are: {res}')"
   ]
  },
  {
   "cell_type": "code",
   "execution_count": 9,
   "metadata": {},
   "outputs": [
    {
     "output_type": "stream",
     "name": "stdout",
     "text": [
      "The 0th Fibonacci Number is 0\nThe 1th and 0th Fibonacci Numbers are (1, 0)\nThe 2th and 1th Fibonacci Numbers are (1, 1)\nThe 3th and 2th Fibonacci Numbers are (2, 1)\nThe 4th and 3th Fibonacci Numbers are (3, 2)\nThe 5th and 4th Fibonacci Numbers are (5, 3)\nThe 6th and 5th Fibonacci Numbers are (8, 5)\nThe 7th and 6th Fibonacci Numbers are (13, 8)\nThe 8th and 7th Fibonacci Numbers are (21, 13)\nThe 9th and 8th Fibonacci Numbers are (34, 21)\nThe 10th and 9th Fibonacci Numbers are (55, 34)\nThe 11th and 10th Fibonacci Numbers are (89, 55)\nThe 12th and 11th Fibonacci Numbers are (144, 89)\nThe 13th and 12th Fibonacci Numbers are (233, 144)\nThe 14th and 13th Fibonacci Numbers are (377, 233)\nThe 15th and 14th Fibonacci Numbers are (610, 377)\n"
     ]
    }
   ],
   "source": [
    "for i in range(n+1):\n",
    "    if i == 0:\n",
    "        print(f'The {i}th Fibonacci Number is {fibonacci_number(i)[0]}')\n",
    "    else:\n",
    "        print(f'The {i}th and {i-1}th Fibonacci Numbers are {fibonacci_number(i)}')"
   ]
  },
  {
   "cell_type": "code",
   "execution_count": null,
   "metadata": {},
   "outputs": [],
   "source": []
  }
 ]
}